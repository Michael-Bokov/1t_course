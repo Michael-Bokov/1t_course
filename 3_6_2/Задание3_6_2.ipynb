{
  "nbformat": 4,
  "nbformat_minor": 0,
  "metadata": {
    "colab": {
      "provenance": []
    },
    "kernelspec": {
      "name": "python3",
      "display_name": "Python 3"
    },
    "language_info": {
      "name": "python"
    }
  },
  "cells": [
    {
      "cell_type": "code",
      "source": [
        "pip install pyspark"
      ],
      "metadata": {
        "colab": {
          "base_uri": "https://localhost:8080/"
        },
        "id": "yXoAs1BubAPa",
        "outputId": "c2e2d455-76b7-4de6-af1c-3559296ab711"
      },
      "execution_count": 2,
      "outputs": [
        {
          "output_type": "stream",
          "name": "stdout",
          "text": [
            "Collecting pyspark\n",
            "  Downloading pyspark-3.5.1.tar.gz (317.0 MB)\n",
            "\u001b[2K     \u001b[90m━━━━━━━━━━━━━━━━━━━━━━━━━━━━━━━━━━━━━━━━\u001b[0m \u001b[32m317.0/317.0 MB\u001b[0m \u001b[31m3.4 MB/s\u001b[0m eta \u001b[36m0:00:00\u001b[0m\n",
            "\u001b[?25h  Preparing metadata (setup.py) ... \u001b[?25l\u001b[?25hdone\n",
            "Requirement already satisfied: py4j==0.10.9.7 in /usr/local/lib/python3.10/dist-packages (from pyspark) (0.10.9.7)\n",
            "Building wheels for collected packages: pyspark\n",
            "  Building wheel for pyspark (setup.py) ... \u001b[?25l\u001b[?25hdone\n",
            "  Created wheel for pyspark: filename=pyspark-3.5.1-py2.py3-none-any.whl size=317488491 sha256=0316f360d756b549ec536d2de1fe4e48942e8e5777031396b5f1874841e982f8\n",
            "  Stored in directory: /root/.cache/pip/wheels/80/1d/60/2c256ed38dddce2fdd93be545214a63e02fbd8d74fb0b7f3a6\n",
            "Successfully built pyspark\n",
            "Installing collected packages: pyspark\n",
            "Successfully installed pyspark-3.5.1\n"
          ]
        }
      ]
    },
    {
      "cell_type": "code",
      "source": [
        "pip install install-jdk"
      ],
      "metadata": {
        "colab": {
          "base_uri": "https://localhost:8080/"
        },
        "id": "LezNF_8ubAKN",
        "outputId": "7ced0fbb-42d5-4a6c-ce4e-d7b2733314df"
      },
      "execution_count": 3,
      "outputs": [
        {
          "output_type": "stream",
          "name": "stdout",
          "text": [
            "Collecting install-jdk\n",
            "  Downloading install_jdk-1.1.0-py3-none-any.whl (15 kB)\n",
            "Installing collected packages: install-jdk\n",
            "Successfully installed install-jdk-1.1.0\n"
          ]
        }
      ]
    },
    {
      "cell_type": "code",
      "source": [
        "pip install findspark"
      ],
      "metadata": {
        "colab": {
          "base_uri": "https://localhost:8080/"
        },
        "id": "hA_hIR5hasug",
        "outputId": "d3d5db10-2b38-49ef-84a1-7051688ab793"
      },
      "execution_count": 4,
      "outputs": [
        {
          "output_type": "stream",
          "name": "stdout",
          "text": [
            "Collecting findspark\n",
            "  Downloading findspark-2.0.1-py2.py3-none-any.whl (4.4 kB)\n",
            "Installing collected packages: findspark\n",
            "Successfully installed findspark-2.0.1\n"
          ]
        }
      ]
    },
    {
      "cell_type": "code",
      "source": [
        "pip install names"
      ],
      "metadata": {
        "colab": {
          "base_uri": "https://localhost:8080/"
        },
        "id": "QveO_MzgXe4g",
        "outputId": "024c9284-fa88-44a7-daf9-8ae91b397425"
      },
      "execution_count": 5,
      "outputs": [
        {
          "output_type": "stream",
          "name": "stdout",
          "text": [
            "Collecting names\n",
            "  Downloading names-0.3.0.tar.gz (789 kB)\n",
            "\u001b[2K     \u001b[90m━━━━━━━━━━━━━━━━━━━━━━━━━━━━━━━━━━━━━━━━\u001b[0m \u001b[32m789.1/789.1 kB\u001b[0m \u001b[31m10.3 MB/s\u001b[0m eta \u001b[36m0:00:00\u001b[0m\n",
            "\u001b[?25h  Preparing metadata (setup.py) ... \u001b[?25l\u001b[?25hdone\n",
            "Building wheels for collected packages: names\n",
            "  Building wheel for names (setup.py) ... \u001b[?25l\u001b[?25hdone\n",
            "  Created wheel for names: filename=names-0.3.0-py3-none-any.whl size=803682 sha256=685d05601d36b60c4b15b4ebfb4e45234cee0fc436b3efa1031bc24617830621\n",
            "  Stored in directory: /root/.cache/pip/wheels/fc/9a/6f/78f4282bbcaa2d8c678b73c54c0bb1b7a04009f0d7cec79fce\n",
            "Successfully built names\n",
            "Installing collected packages: names\n",
            "Successfully installed names-0.3.0\n"
          ]
        }
      ]
    },
    {
      "cell_type": "code",
      "source": [
        "import pandas as pd\n",
        "import numpy as np\n",
        "import random\n",
        "\n",
        "from pyspark.sql import SparkSession\n",
        "from pyspark.sql.types import StructType, StructField,DateType,IntegerType,FloatType, StringType\n",
        "from pyspark.sql.functions import col, avg, count\n",
        "from datetime import datetime, timedelta\n",
        "\n",
        "np.random.seed(42)\n",
        "\n",
        "spark = SparkSession.builder \\\n",
        "    .appName(\"Store Historical Data\") \\\n",
        "    .getOrCreate()\n",
        "products = [\"Laptop\", \"Smartphone\", \"Tablet\", \"Monitor\", \"Keyboard\", \"Mouse\", \"Headphones\", \"Camera\", \"Printer\"]\n",
        "num_rows=1000\n",
        "# Генерация\n",
        "def generate_data(num_rows):\n",
        "    data = []\n",
        "    start_date = datetime.now() - timedelta(days=365)\n",
        "    for _ in range(num_rows):\n",
        "        date = start_date + timedelta(days=np.random.randint(0, 365))\n",
        "        user_id = random.randint(1, 1000)\n",
        "        product = random.choice(products)\n",
        "        quantity = random.randint(1, 10)\n",
        "        price = round(random.uniform(10.0, 1000.0), 2)\n",
        "        data.append((date, user_id, product, quantity, price))\n",
        "    return data\n",
        "data = generate_data(num_rows)\n",
        "\n",
        "# Определение схемы стор\n",
        "store_schema = StructType([\n",
        "    StructField(\"Date\", DateType(), False),\n",
        "    StructField(\"UserID\", IntegerType(), False),\n",
        "    StructField(\"Product\", StringType(), False),\n",
        "    StructField(\"Quantity\", IntegerType(), False),\n",
        "    StructField(\"Price\", FloatType(), False)\n",
        "])\n",
        "store_df = spark.createDataFrame(data,schema=store_schema)\n",
        "\n",
        "store_df.show(truncate=False)\n",
        "output_path='/content/store.csv'\n",
        "store_df.write.mode(\"overwrite\").csv(output_path, header=True)"
      ],
      "metadata": {
        "colab": {
          "base_uri": "https://localhost:8080/"
        },
        "id": "ybue_2oAScrd",
        "outputId": "bb77560a-5551-4cf4-970b-bc347ef7d5b0"
      },
      "execution_count": 12,
      "outputs": [
        {
          "output_type": "stream",
          "name": "stdout",
          "text": [
            "+----------+------+----------+--------+------+\n",
            "|Date      |UserID|Product   |Quantity|Price |\n",
            "+----------+------+----------+--------+------+\n",
            "|2023-10-30|724   |Monitor   |8       |777.18|\n",
            "|2024-07-02|153   |Tablet    |2       |373.48|\n",
            "|2024-04-15|58    |Smartphone|6       |387.42|\n",
            "|2023-11-03|173   |Keyboard  |7       |713.95|\n",
            "|2023-09-29|907   |Laptop    |10      |728.3 |\n",
            "|2024-01-24|665   |Headphones|1       |240.53|\n",
            "|2023-08-09|577   |Tablet    |4       |214.11|\n",
            "|2023-10-30|226   |Camera    |8       |766.55|\n",
            "|2023-11-18|797   |Smartphone|10      |876.66|\n",
            "|2024-02-19|549   |Monitor   |5       |34.27 |\n",
            "|2024-06-14|71    |Smartphone|4       |212.79|\n",
            "|2023-10-15|105   |Tablet    |4       |869.13|\n",
            "|2023-10-27|219   |Headphones|1       |230.89|\n",
            "|2024-07-13|251   |Headphones|8       |878.53|\n",
            "|2023-12-18|642   |Printer   |3       |507.43|\n",
            "|2023-11-27|114   |Monitor   |2       |211.78|\n",
            "|2023-12-16|23    |Smartphone|3       |650.13|\n",
            "|2024-05-23|372   |Printer   |10      |474.98|\n",
            "|2024-04-02|784   |Smartphone|2       |440.71|\n",
            "|2024-06-27|435   |Printer   |6       |873.1 |\n",
            "+----------+------+----------+--------+------+\n",
            "only showing top 20 rows\n",
            "\n"
          ]
        }
      ]
    },
    {
      "cell_type": "markdown",
      "source": [
        "Средний возраст студентов"
      ],
      "metadata": {
        "id": "IEFQsUjphKKd"
      }
    }
  ]
}